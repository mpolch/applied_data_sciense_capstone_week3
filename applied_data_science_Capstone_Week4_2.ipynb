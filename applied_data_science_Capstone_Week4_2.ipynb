{
 "cells": [
  {
   "cell_type": "markdown",
   "metadata": {},
   "source": [
    "# Coursera Capstone Project - The Battle of Neighborhoods \n",
    "\n",
    "## Mevluet Polat \n",
    "\n",
    "### Contents\n",
    "\n",
    "Introduction Section : To find out what are the business problems and who is the target audience of this project.\n",
    "Data Section: Which is data is going to be used for this project and how they can solve the problem.\n",
    "Methodology section : To check whick exploratory data can be deployed here and which statistical testing methods cold be taken into account.\n",
    "Results section : Review the results and check them.\n",
    "Discussion section : Check the discusstion and review the reported observations and recommendations.\n",
    "Conclusion section: Check all the input and do a conclusion.\n",
    "\n",
    "1. Introduction\n",
    "Description of the Problem and Background\n",
    "I am searching a local for a coffice shop in Zurich, Swirzerland near to central platz. \n",
    "the coffee shop should have a square size of 100qm and will enable to be oppened until 4 O'clock am. \n",
    "The local will be used during the day as a coffice shop and should be desinged as music bar from 11:00 pm.\n",
    "There will be thursday, friday and saturday live music.\n",
    "No food will offered except sandwitches and drinks. \n",
    "\n",
    "All the drinks will will be sold with + 2 swiss franks after midnight.\n",
    "There will be a dance floor. \n",
    "\n",
    "Interested Audience\n",
    "All people arroung the train station and downtown. \n",
    "This area is beeing used to meet new people when wait before the going to airport. \n",
    "At weekend there are many young people who come to zurich at weekend and will wait untril the next train is ready. \n",
    "After the midnight there is every one hour a train to the other cities and the passengers can visit the local and have a drink. \n",
    "\n",
    "\n",
    "2. Data Section\n",
    "Check the area if there are similar coffes with music. \n",
    "Check the prices of drinks and sandwitches.\n",
    "What kind of offers are existing in neighborhood.\n",
    "\n",
    "3. Methodology section\n",
    "\n",
    "Use Foursquare and geopy data to map top 10 coffe shops in neighborhoods and clustered in groups \n",
    "Find and check the similar locals and try to estimate their visitor per day. \n",
    "\n",
    "4. Result section\n",
    "Review the identified coffee shops and locals.\n",
    "Check theit prices for drinks. \n",
    "Make estimations how many people are visiting per day the shop. \n",
    "\n",
    "5. Discussion section\n",
    "How should we define the prices in relation to neighborhood?\n",
    "Can we have add some more products into our offers?\n",
    "Is there a goup of audience that we should focus?\n",
    "\n",
    "6. Conclusion section\n",
    "What is our conclusion?\n",
    "Shall we start with our business and how many mounth will it take to have a turn over?\n",
    "Is it a Go or NoGo?\n"
   ]
  }
 ],
 "metadata": {
  "kernelspec": {
   "display_name": "Python 3",
   "language": "python",
   "name": "python3"
  },
  "language_info": {
   "codemirror_mode": {
    "name": "ipython",
    "version": 3
   },
   "file_extension": ".py",
   "mimetype": "text/x-python",
   "name": "python",
   "nbconvert_exporter": "python",
   "pygments_lexer": "ipython3",
   "version": "3.7.6"
  }
 },
 "nbformat": 4,
 "nbformat_minor": 4
}
